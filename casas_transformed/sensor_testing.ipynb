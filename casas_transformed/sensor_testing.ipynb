{
 "cells": [
  {
   "cell_type": "code",
   "execution_count": 2,
   "id": "4ff0c538",
   "metadata": {},
   "outputs": [
    {
     "name": "stdout",
     "output_type": "stream",
     "text": [
      "The most common value in the third column is 'HallBathroomDoor' with 229 occurrences.\n"
     ]
    }
   ],
   "source": [
    "import os\n",
    "from collections import Counter\n",
    "\n",
    "# Assuming your dataset directory path is 'dataset_directory'\n",
    "dataset_directory = '/Users/miro/Documents/ARAS/mdm-master_copy/examples/casas'\n",
    "\n",
    "# Counter for occurrences of each value in the third column\n",
    "value_counter = Counter()\n",
    "\n",
    "# Iterate through each file in the dataset directory\n",
    "for filename in os.listdir(dataset_directory):\n",
    "    if filename.endswith('.txt'):\n",
    "        file_path = os.path.join(dataset_directory, filename)\n",
    "        with open(file_path, 'r') as file:\n",
    "            # Read each line in the file\n",
    "            for line in file:\n",
    "                # Split the line into columns based on space\n",
    "                columns = line.strip().split(' ')\n",
    "                # Check if the line has enough parts\n",
    "                if len(columns) > 3:\n",
    "                    # Increment the count for the value in the third column\n",
    "                    value_counter[columns[2]] += 1\n",
    "\n",
    "# Find the most common value in the third column\n",
    "most_common_value, occurrences = value_counter.most_common(1)[0]\n",
    "\n",
    "print(f\"The most common value in the third column is '{most_common_value}' with {occurrences} occurrences.\")\n"
   ]
  },
  {
   "cell_type": "code",
   "execution_count": 3,
   "id": "bbbc1876",
   "metadata": {},
   "outputs": [
    {
     "name": "stdout",
     "output_type": "stream",
     "text": [
      "All lines containing 'HallBathroomDoor' in the third column have been removed from all files.\n"
     ]
    }
   ],
   "source": [
    "import os\n",
    "from collections import Counter\n",
    "\n",
    "# Assuming your dataset directory path is 'dataset_directory'\n",
    "dataset_directory = '/Users/miro/Documents/ARAS/mdm-master_copy/examples/casas'\n",
    "\n",
    "# Initialize a counter for occurrences of each value in the third column\n",
    "value_counter = Counter()\n",
    "\n",
    "# First pass to count occurrences of each value in the third column\n",
    "for filename in os.listdir(dataset_directory):\n",
    "    if filename.endswith('.txt'):\n",
    "        file_path = os.path.join(dataset_directory, filename)\n",
    "        with open(file_path, 'r') as file:\n",
    "            for line in file:\n",
    "                columns = line.strip().split(' ')\n",
    "                if len(columns) > 3:\n",
    "                    value_counter[columns[2]] += 1\n",
    "\n",
    "# Find the most common value in the third column\n",
    "most_common_value, _ = value_counter.most_common(1)[0]\n",
    "\n",
    "# Second pass to remove lines containing the most common value in the third column\n",
    "for filename in os.listdir(dataset_directory):\n",
    "    if filename.endswith('.txt'):\n",
    "        file_path = os.path.join(dataset_directory, filename)\n",
    "        with open(file_path, 'r') as file:\n",
    "            lines = file.readlines()\n",
    "        \n",
    "        with open(file_path, 'w') as file:\n",
    "            for line in lines:\n",
    "                columns = line.strip().split(' ')\n",
    "                if len(columns) > 3 and columns[2] != most_common_value:\n",
    "                    file.write(line)\n",
    "\n",
    "print(f\"All lines containing '{most_common_value}' in the third column have been removed from all files.\")\n"
   ]
  },
  {
   "cell_type": "code",
   "execution_count": null,
   "id": "a377fee1",
   "metadata": {},
   "outputs": [],
   "source": []
  }
 ],
 "metadata": {
  "kernelspec": {
   "display_name": "Python 3 (ipykernel)",
   "language": "python",
   "name": "python3"
  },
  "language_info": {
   "codemirror_mode": {
    "name": "ipython",
    "version": 3
   },
   "file_extension": ".py",
   "mimetype": "text/x-python",
   "name": "python",
   "nbconvert_exporter": "python",
   "pygments_lexer": "ipython3",
   "version": "3.9.12"
  }
 },
 "nbformat": 4,
 "nbformat_minor": 5
}
