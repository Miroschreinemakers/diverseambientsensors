{
 "cells": [
  {
   "cell_type": "code",
   "execution_count": 1,
   "id": "f112eb30",
   "metadata": {},
   "outputs": [
    {
     "ename": "ValueError",
     "evalue": "Length mismatch: Expected axis has 1 elements, new values have 8 elements",
     "output_type": "error",
     "traceback": [
      "\u001b[0;31m---------------------------------------------------------------------------\u001b[0m",
      "\u001b[0;31mValueError\u001b[0m                                Traceback (most recent call last)",
      "Input \u001b[0;32mIn [1]\u001b[0m, in \u001b[0;36m<cell line: 32>\u001b[0;34m()\u001b[0m\n\u001b[1;32m     34\u001b[0m input_file \u001b[38;5;241m=\u001b[39m os\u001b[38;5;241m.\u001b[39mpath\u001b[38;5;241m.\u001b[39mjoin(folder_path, filename)\n\u001b[1;32m     35\u001b[0m output_file \u001b[38;5;241m=\u001b[39m os\u001b[38;5;241m.\u001b[39mpath\u001b[38;5;241m.\u001b[39mjoin(output_folder, filename\u001b[38;5;241m.\u001b[39mreplace(\u001b[38;5;124m\"\u001b[39m\u001b[38;5;124m.txt\u001b[39m\u001b[38;5;124m\"\u001b[39m, \u001b[38;5;124m\"\u001b[39m\u001b[38;5;124m_transformed.csv\u001b[39m\u001b[38;5;124m\"\u001b[39m))\n\u001b[0;32m---> 36\u001b[0m \u001b[43mprocess_file\u001b[49m\u001b[43m(\u001b[49m\u001b[43minput_file\u001b[49m\u001b[43m,\u001b[49m\u001b[43m \u001b[49m\u001b[43moutput_file\u001b[49m\u001b[43m)\u001b[49m\n",
      "Input \u001b[0;32mIn [1]\u001b[0m, in \u001b[0;36mprocess_file\u001b[0;34m(input_file, output_file)\u001b[0m\n\u001b[1;32m      7\u001b[0m df \u001b[38;5;241m=\u001b[39m pd\u001b[38;5;241m.\u001b[39mread_csv(input_file, header\u001b[38;5;241m=\u001b[39m\u001b[38;5;28;01mNone\u001b[39;00m)\n\u001b[1;32m      9\u001b[0m \u001b[38;5;66;03m# Rename the columns\u001b[39;00m\n\u001b[0;32m---> 10\u001b[0m df\u001b[38;5;241m.\u001b[39mcolumns \u001b[38;5;241m=\u001b[39m [\u001b[38;5;124m'\u001b[39m\u001b[38;5;124mdate\u001b[39m\u001b[38;5;124m'\u001b[39m, \u001b[38;5;124m'\u001b[39m\u001b[38;5;124mtime\u001b[39m\u001b[38;5;124m'\u001b[39m, \u001b[38;5;124m'\u001b[39m\u001b[38;5;124msensorid\u001b[39m\u001b[38;5;124m'\u001b[39m, \u001b[38;5;124m'\u001b[39m\u001b[38;5;124mvalue\u001b[39m\u001b[38;5;124m'\u001b[39m, \u001b[38;5;124m'\u001b[39m\u001b[38;5;124mperson1\u001b[39m\u001b[38;5;124m'\u001b[39m, \u001b[38;5;124m'\u001b[39m\u001b[38;5;124mactivity1\u001b[39m\u001b[38;5;124m'\u001b[39m, \u001b[38;5;124m'\u001b[39m\u001b[38;5;124mperson2\u001b[39m\u001b[38;5;124m'\u001b[39m, \u001b[38;5;124m'\u001b[39m\u001b[38;5;124mactivity2\u001b[39m\u001b[38;5;124m'\u001b[39m]\n\u001b[1;32m     12\u001b[0m \u001b[38;5;66;03m# Create a new DataFrame with the desired columns\u001b[39;00m\n\u001b[1;32m     13\u001b[0m new_df \u001b[38;5;241m=\u001b[39m df[[\u001b[38;5;124m'\u001b[39m\u001b[38;5;124mdate\u001b[39m\u001b[38;5;124m'\u001b[39m, \u001b[38;5;124m'\u001b[39m\u001b[38;5;124mtime\u001b[39m\u001b[38;5;124m'\u001b[39m, \u001b[38;5;124m'\u001b[39m\u001b[38;5;124msensorid\u001b[39m\u001b[38;5;124m'\u001b[39m, \u001b[38;5;124m'\u001b[39m\u001b[38;5;124msensorid\u001b[39m\u001b[38;5;124m'\u001b[39m, \u001b[38;5;124m'\u001b[39m\u001b[38;5;124mvalue\u001b[39m\u001b[38;5;124m'\u001b[39m, \u001b[38;5;124m'\u001b[39m\u001b[38;5;124mactivity1\u001b[39m\u001b[38;5;124m'\u001b[39m]]\n",
      "File \u001b[0;32m/opt/anaconda3/lib/python3.9/site-packages/pandas/core/generic.py:5588\u001b[0m, in \u001b[0;36mNDFrame.__setattr__\u001b[0;34m(self, name, value)\u001b[0m\n\u001b[1;32m   5586\u001b[0m \u001b[38;5;28;01mtry\u001b[39;00m:\n\u001b[1;32m   5587\u001b[0m     \u001b[38;5;28mobject\u001b[39m\u001b[38;5;241m.\u001b[39m\u001b[38;5;21m__getattribute__\u001b[39m(\u001b[38;5;28mself\u001b[39m, name)\n\u001b[0;32m-> 5588\u001b[0m     \u001b[38;5;28;01mreturn\u001b[39;00m \u001b[38;5;28;43mobject\u001b[39;49m\u001b[38;5;241;43m.\u001b[39;49m\u001b[38;5;21;43m__setattr__\u001b[39;49m\u001b[43m(\u001b[49m\u001b[38;5;28;43mself\u001b[39;49m\u001b[43m,\u001b[49m\u001b[43m \u001b[49m\u001b[43mname\u001b[49m\u001b[43m,\u001b[49m\u001b[43m \u001b[49m\u001b[43mvalue\u001b[49m\u001b[43m)\u001b[49m\n\u001b[1;32m   5589\u001b[0m \u001b[38;5;28;01mexcept\u001b[39;00m \u001b[38;5;167;01mAttributeError\u001b[39;00m:\n\u001b[1;32m   5590\u001b[0m     \u001b[38;5;28;01mpass\u001b[39;00m\n",
      "File \u001b[0;32m/opt/anaconda3/lib/python3.9/site-packages/pandas/_libs/properties.pyx:70\u001b[0m, in \u001b[0;36mpandas._libs.properties.AxisProperty.__set__\u001b[0;34m()\u001b[0m\n",
      "File \u001b[0;32m/opt/anaconda3/lib/python3.9/site-packages/pandas/core/generic.py:769\u001b[0m, in \u001b[0;36mNDFrame._set_axis\u001b[0;34m(self, axis, labels)\u001b[0m\n\u001b[1;32m    767\u001b[0m \u001b[38;5;28;01mdef\u001b[39;00m \u001b[38;5;21m_set_axis\u001b[39m(\u001b[38;5;28mself\u001b[39m, axis: \u001b[38;5;28mint\u001b[39m, labels: Index) \u001b[38;5;241m-\u001b[39m\u001b[38;5;241m>\u001b[39m \u001b[38;5;28;01mNone\u001b[39;00m:\n\u001b[1;32m    768\u001b[0m     labels \u001b[38;5;241m=\u001b[39m ensure_index(labels)\n\u001b[0;32m--> 769\u001b[0m     \u001b[38;5;28;43mself\u001b[39;49m\u001b[38;5;241;43m.\u001b[39;49m\u001b[43m_mgr\u001b[49m\u001b[38;5;241;43m.\u001b[39;49m\u001b[43mset_axis\u001b[49m\u001b[43m(\u001b[49m\u001b[43maxis\u001b[49m\u001b[43m,\u001b[49m\u001b[43m \u001b[49m\u001b[43mlabels\u001b[49m\u001b[43m)\u001b[49m\n\u001b[1;32m    770\u001b[0m     \u001b[38;5;28mself\u001b[39m\u001b[38;5;241m.\u001b[39m_clear_item_cache()\n",
      "File \u001b[0;32m/opt/anaconda3/lib/python3.9/site-packages/pandas/core/internals/managers.py:214\u001b[0m, in \u001b[0;36mBaseBlockManager.set_axis\u001b[0;34m(self, axis, new_labels)\u001b[0m\n\u001b[1;32m    212\u001b[0m \u001b[38;5;28;01mdef\u001b[39;00m \u001b[38;5;21mset_axis\u001b[39m(\u001b[38;5;28mself\u001b[39m, axis: \u001b[38;5;28mint\u001b[39m, new_labels: Index) \u001b[38;5;241m-\u001b[39m\u001b[38;5;241m>\u001b[39m \u001b[38;5;28;01mNone\u001b[39;00m:\n\u001b[1;32m    213\u001b[0m     \u001b[38;5;66;03m# Caller is responsible for ensuring we have an Index object.\u001b[39;00m\n\u001b[0;32m--> 214\u001b[0m     \u001b[38;5;28;43mself\u001b[39;49m\u001b[38;5;241;43m.\u001b[39;49m\u001b[43m_validate_set_axis\u001b[49m\u001b[43m(\u001b[49m\u001b[43maxis\u001b[49m\u001b[43m,\u001b[49m\u001b[43m \u001b[49m\u001b[43mnew_labels\u001b[49m\u001b[43m)\u001b[49m\n\u001b[1;32m    215\u001b[0m     \u001b[38;5;28mself\u001b[39m\u001b[38;5;241m.\u001b[39maxes[axis] \u001b[38;5;241m=\u001b[39m new_labels\n",
      "File \u001b[0;32m/opt/anaconda3/lib/python3.9/site-packages/pandas/core/internals/base.py:69\u001b[0m, in \u001b[0;36mDataManager._validate_set_axis\u001b[0;34m(self, axis, new_labels)\u001b[0m\n\u001b[1;32m     66\u001b[0m     \u001b[38;5;28;01mpass\u001b[39;00m\n\u001b[1;32m     68\u001b[0m \u001b[38;5;28;01melif\u001b[39;00m new_len \u001b[38;5;241m!=\u001b[39m old_len:\n\u001b[0;32m---> 69\u001b[0m     \u001b[38;5;28;01mraise\u001b[39;00m \u001b[38;5;167;01mValueError\u001b[39;00m(\n\u001b[1;32m     70\u001b[0m         \u001b[38;5;124mf\u001b[39m\u001b[38;5;124m\"\u001b[39m\u001b[38;5;124mLength mismatch: Expected axis has \u001b[39m\u001b[38;5;132;01m{\u001b[39;00mold_len\u001b[38;5;132;01m}\u001b[39;00m\u001b[38;5;124m elements, new \u001b[39m\u001b[38;5;124m\"\u001b[39m\n\u001b[1;32m     71\u001b[0m         \u001b[38;5;124mf\u001b[39m\u001b[38;5;124m\"\u001b[39m\u001b[38;5;124mvalues have \u001b[39m\u001b[38;5;132;01m{\u001b[39;00mnew_len\u001b[38;5;132;01m}\u001b[39;00m\u001b[38;5;124m elements\u001b[39m\u001b[38;5;124m\"\u001b[39m\n\u001b[1;32m     72\u001b[0m     )\n",
      "\u001b[0;31mValueError\u001b[0m: Length mismatch: Expected axis has 1 elements, new values have 8 elements"
     ]
    }
   ],
   "source": [
    "import os\n",
    "import pandas as pd\n",
    "\n",
    "# Function to process each file\n",
    "def process_file(input_file, output_file):\n",
    "    # Load the dataset\n",
    "    df = pd.read_csv(input_file, header=None)\n",
    "\n",
    "    # Rename the columns\n",
    "    df.columns = ['date', 'time', 'sensorid', 'value', 'person1', 'activity1', 'person2', 'activity2']\n",
    "\n",
    "    # Create a new DataFrame with the desired columns\n",
    "    new_df = df[['date', 'time', 'sensorid', 'sensorid', 'value', 'activity1']]\n",
    "\n",
    "    # Rename the duplicate sensorid column\n",
    "    new_df.rename(columns={'sensorid': 'sensorid2'}, inplace=True)\n",
    "\n",
    "    # Save the transformed dataset\n",
    "    new_df.to_csv(output_file, index=False)\n",
    "\n",
    "# Path to the folder containing text files\n",
    "folder_path = \"/Users/miro/Documents/ARAS/mdm-master_CLEAN/examples/casas\"  # Replace \"path/to/your/folder\" with the actual folder path\n",
    "\n",
    "# Output folder\n",
    "output_folder = \"/Users/miro/Documents/ARAS/mdm-master_CLEAN/examples/casas\"  # Replace \"path/to/output/folder\" with the desired output folder path\n",
    "\n",
    "# Create the output folder if it doesn't exist\n",
    "if not os.path.exists(output_folder):\n",
    "    os.makedirs(output_folder)\n",
    "\n",
    "# Process each file in the folder\n",
    "for filename in os.listdir(folder_path):\n",
    "    if filename.endswith(\".txt\"):\n",
    "        input_file = os.path.join(folder_path, filename)\n",
    "        output_file = os.path.join(output_folder, filename.replace(\".txt\", \"_transformed.csv\"))\n",
    "        process_file(input_file, output_file)\n"
   ]
  },
  {
   "cell_type": "code",
   "execution_count": 2,
   "id": "7747762c",
   "metadata": {},
   "outputs": [
    {
     "ename": "ValueError",
     "evalue": "Length mismatch: Expected axis has 1 elements, new values have 8 elements",
     "output_type": "error",
     "traceback": [
      "\u001b[0;31m---------------------------------------------------------------------------\u001b[0m",
      "\u001b[0;31mValueError\u001b[0m                                Traceback (most recent call last)",
      "Input \u001b[0;32mIn [2]\u001b[0m, in \u001b[0;36m<cell line: 32>\u001b[0;34m()\u001b[0m\n\u001b[1;32m     34\u001b[0m input_file \u001b[38;5;241m=\u001b[39m os\u001b[38;5;241m.\u001b[39mpath\u001b[38;5;241m.\u001b[39mjoin(folder_path, filename)\n\u001b[1;32m     35\u001b[0m output_file \u001b[38;5;241m=\u001b[39m os\u001b[38;5;241m.\u001b[39mpath\u001b[38;5;241m.\u001b[39mjoin(output_folder, filename\u001b[38;5;241m.\u001b[39mreplace(\u001b[38;5;124m\"\u001b[39m\u001b[38;5;124m.txt\u001b[39m\u001b[38;5;124m\"\u001b[39m, \u001b[38;5;124m\"\u001b[39m\u001b[38;5;124m_transformed.csv\u001b[39m\u001b[38;5;124m\"\u001b[39m))\n\u001b[0;32m---> 36\u001b[0m \u001b[43mprocess_file\u001b[49m\u001b[43m(\u001b[49m\u001b[43minput_file\u001b[49m\u001b[43m,\u001b[49m\u001b[43m \u001b[49m\u001b[43moutput_file\u001b[49m\u001b[43m)\u001b[49m\n",
      "Input \u001b[0;32mIn [2]\u001b[0m, in \u001b[0;36mprocess_file\u001b[0;34m(input_file, output_file)\u001b[0m\n\u001b[1;32m      7\u001b[0m df \u001b[38;5;241m=\u001b[39m pd\u001b[38;5;241m.\u001b[39mread_csv(input_file, header\u001b[38;5;241m=\u001b[39m\u001b[38;5;28;01mNone\u001b[39;00m)\n\u001b[1;32m      9\u001b[0m \u001b[38;5;66;03m# Assign column names\u001b[39;00m\n\u001b[0;32m---> 10\u001b[0m df\u001b[38;5;241m.\u001b[39mcolumns \u001b[38;5;241m=\u001b[39m [\u001b[38;5;124m'\u001b[39m\u001b[38;5;124mdate\u001b[39m\u001b[38;5;124m'\u001b[39m, \u001b[38;5;124m'\u001b[39m\u001b[38;5;124mtime\u001b[39m\u001b[38;5;124m'\u001b[39m, \u001b[38;5;124m'\u001b[39m\u001b[38;5;124msensorid\u001b[39m\u001b[38;5;124m'\u001b[39m, \u001b[38;5;124m'\u001b[39m\u001b[38;5;124mvalue\u001b[39m\u001b[38;5;124m'\u001b[39m, \u001b[38;5;124m'\u001b[39m\u001b[38;5;124mperson1\u001b[39m\u001b[38;5;124m'\u001b[39m, \u001b[38;5;124m'\u001b[39m\u001b[38;5;124mactivity1\u001b[39m\u001b[38;5;124m'\u001b[39m, \u001b[38;5;124m'\u001b[39m\u001b[38;5;124mperson2\u001b[39m\u001b[38;5;124m'\u001b[39m, \u001b[38;5;124m'\u001b[39m\u001b[38;5;124mactivity2\u001b[39m\u001b[38;5;124m'\u001b[39m]\n\u001b[1;32m     12\u001b[0m \u001b[38;5;66;03m# Create a new DataFrame with the desired columns\u001b[39;00m\n\u001b[1;32m     13\u001b[0m new_df \u001b[38;5;241m=\u001b[39m df[[\u001b[38;5;124m'\u001b[39m\u001b[38;5;124mdate\u001b[39m\u001b[38;5;124m'\u001b[39m, \u001b[38;5;124m'\u001b[39m\u001b[38;5;124mtime\u001b[39m\u001b[38;5;124m'\u001b[39m, \u001b[38;5;124m'\u001b[39m\u001b[38;5;124msensorid\u001b[39m\u001b[38;5;124m'\u001b[39m, \u001b[38;5;124m'\u001b[39m\u001b[38;5;124msensorid\u001b[39m\u001b[38;5;124m'\u001b[39m, \u001b[38;5;124m'\u001b[39m\u001b[38;5;124mvalue\u001b[39m\u001b[38;5;124m'\u001b[39m, \u001b[38;5;124m'\u001b[39m\u001b[38;5;124mactivity1\u001b[39m\u001b[38;5;124m'\u001b[39m]]\n",
      "File \u001b[0;32m/opt/anaconda3/lib/python3.9/site-packages/pandas/core/generic.py:5588\u001b[0m, in \u001b[0;36mNDFrame.__setattr__\u001b[0;34m(self, name, value)\u001b[0m\n\u001b[1;32m   5586\u001b[0m \u001b[38;5;28;01mtry\u001b[39;00m:\n\u001b[1;32m   5587\u001b[0m     \u001b[38;5;28mobject\u001b[39m\u001b[38;5;241m.\u001b[39m\u001b[38;5;21m__getattribute__\u001b[39m(\u001b[38;5;28mself\u001b[39m, name)\n\u001b[0;32m-> 5588\u001b[0m     \u001b[38;5;28;01mreturn\u001b[39;00m \u001b[38;5;28;43mobject\u001b[39;49m\u001b[38;5;241;43m.\u001b[39;49m\u001b[38;5;21;43m__setattr__\u001b[39;49m\u001b[43m(\u001b[49m\u001b[38;5;28;43mself\u001b[39;49m\u001b[43m,\u001b[49m\u001b[43m \u001b[49m\u001b[43mname\u001b[49m\u001b[43m,\u001b[49m\u001b[43m \u001b[49m\u001b[43mvalue\u001b[49m\u001b[43m)\u001b[49m\n\u001b[1;32m   5589\u001b[0m \u001b[38;5;28;01mexcept\u001b[39;00m \u001b[38;5;167;01mAttributeError\u001b[39;00m:\n\u001b[1;32m   5590\u001b[0m     \u001b[38;5;28;01mpass\u001b[39;00m\n",
      "File \u001b[0;32m/opt/anaconda3/lib/python3.9/site-packages/pandas/_libs/properties.pyx:70\u001b[0m, in \u001b[0;36mpandas._libs.properties.AxisProperty.__set__\u001b[0;34m()\u001b[0m\n",
      "File \u001b[0;32m/opt/anaconda3/lib/python3.9/site-packages/pandas/core/generic.py:769\u001b[0m, in \u001b[0;36mNDFrame._set_axis\u001b[0;34m(self, axis, labels)\u001b[0m\n\u001b[1;32m    767\u001b[0m \u001b[38;5;28;01mdef\u001b[39;00m \u001b[38;5;21m_set_axis\u001b[39m(\u001b[38;5;28mself\u001b[39m, axis: \u001b[38;5;28mint\u001b[39m, labels: Index) \u001b[38;5;241m-\u001b[39m\u001b[38;5;241m>\u001b[39m \u001b[38;5;28;01mNone\u001b[39;00m:\n\u001b[1;32m    768\u001b[0m     labels \u001b[38;5;241m=\u001b[39m ensure_index(labels)\n\u001b[0;32m--> 769\u001b[0m     \u001b[38;5;28;43mself\u001b[39;49m\u001b[38;5;241;43m.\u001b[39;49m\u001b[43m_mgr\u001b[49m\u001b[38;5;241;43m.\u001b[39;49m\u001b[43mset_axis\u001b[49m\u001b[43m(\u001b[49m\u001b[43maxis\u001b[49m\u001b[43m,\u001b[49m\u001b[43m \u001b[49m\u001b[43mlabels\u001b[49m\u001b[43m)\u001b[49m\n\u001b[1;32m    770\u001b[0m     \u001b[38;5;28mself\u001b[39m\u001b[38;5;241m.\u001b[39m_clear_item_cache()\n",
      "File \u001b[0;32m/opt/anaconda3/lib/python3.9/site-packages/pandas/core/internals/managers.py:214\u001b[0m, in \u001b[0;36mBaseBlockManager.set_axis\u001b[0;34m(self, axis, new_labels)\u001b[0m\n\u001b[1;32m    212\u001b[0m \u001b[38;5;28;01mdef\u001b[39;00m \u001b[38;5;21mset_axis\u001b[39m(\u001b[38;5;28mself\u001b[39m, axis: \u001b[38;5;28mint\u001b[39m, new_labels: Index) \u001b[38;5;241m-\u001b[39m\u001b[38;5;241m>\u001b[39m \u001b[38;5;28;01mNone\u001b[39;00m:\n\u001b[1;32m    213\u001b[0m     \u001b[38;5;66;03m# Caller is responsible for ensuring we have an Index object.\u001b[39;00m\n\u001b[0;32m--> 214\u001b[0m     \u001b[38;5;28;43mself\u001b[39;49m\u001b[38;5;241;43m.\u001b[39;49m\u001b[43m_validate_set_axis\u001b[49m\u001b[43m(\u001b[49m\u001b[43maxis\u001b[49m\u001b[43m,\u001b[49m\u001b[43m \u001b[49m\u001b[43mnew_labels\u001b[49m\u001b[43m)\u001b[49m\n\u001b[1;32m    215\u001b[0m     \u001b[38;5;28mself\u001b[39m\u001b[38;5;241m.\u001b[39maxes[axis] \u001b[38;5;241m=\u001b[39m new_labels\n",
      "File \u001b[0;32m/opt/anaconda3/lib/python3.9/site-packages/pandas/core/internals/base.py:69\u001b[0m, in \u001b[0;36mDataManager._validate_set_axis\u001b[0;34m(self, axis, new_labels)\u001b[0m\n\u001b[1;32m     66\u001b[0m     \u001b[38;5;28;01mpass\u001b[39;00m\n\u001b[1;32m     68\u001b[0m \u001b[38;5;28;01melif\u001b[39;00m new_len \u001b[38;5;241m!=\u001b[39m old_len:\n\u001b[0;32m---> 69\u001b[0m     \u001b[38;5;28;01mraise\u001b[39;00m \u001b[38;5;167;01mValueError\u001b[39;00m(\n\u001b[1;32m     70\u001b[0m         \u001b[38;5;124mf\u001b[39m\u001b[38;5;124m\"\u001b[39m\u001b[38;5;124mLength mismatch: Expected axis has \u001b[39m\u001b[38;5;132;01m{\u001b[39;00mold_len\u001b[38;5;132;01m}\u001b[39;00m\u001b[38;5;124m elements, new \u001b[39m\u001b[38;5;124m\"\u001b[39m\n\u001b[1;32m     71\u001b[0m         \u001b[38;5;124mf\u001b[39m\u001b[38;5;124m\"\u001b[39m\u001b[38;5;124mvalues have \u001b[39m\u001b[38;5;132;01m{\u001b[39;00mnew_len\u001b[38;5;132;01m}\u001b[39;00m\u001b[38;5;124m elements\u001b[39m\u001b[38;5;124m\"\u001b[39m\n\u001b[1;32m     72\u001b[0m     )\n",
      "\u001b[0;31mValueError\u001b[0m: Length mismatch: Expected axis has 1 elements, new values have 8 elements"
     ]
    }
   ],
   "source": [
    "import os\n",
    "import pandas as pd\n",
    "\n",
    "# Function to process each file\n",
    "def process_file(input_file, output_file):\n",
    "    # Load the dataset\n",
    "    df = pd.read_csv(input_file, header=None)\n",
    "\n",
    "    # Assign column names\n",
    "    df.columns = ['date', 'time', 'sensorid', 'value', 'person1', 'activity1', 'person2', 'activity2']\n",
    "\n",
    "    # Create a new DataFrame with the desired columns\n",
    "    new_df = df[['date', 'time', 'sensorid', 'sensorid', 'value', 'activity1']]\n",
    "\n",
    "    # Rename the duplicate sensorid column\n",
    "    new_df.rename(columns={'sensorid': 'sensorid2'}, inplace=True)\n",
    "\n",
    "    # Save the transformed dataset\n",
    "    new_df.to_csv(output_file, index=False)\n",
    "\n",
    "# Path to the folder containing text files\n",
    "folder_path = \"/Users/miro/Documents/ARAS/mdm-master_CLEAN/examples/casas\"  # Replace \"path/to/your/folder\" with the actual folder path\n",
    "\n",
    "# Output folder\n",
    "output_folder = \"/Users/miro/Documents/ARAS/mdm-master_CLEAN/examples/casas\"  # Replace \"path/to/output/folder\" with the desired output folder path\n",
    "\n",
    "# Create the output folder if it doesn't exist\n",
    "if not os.path.exists(output_folder):\n",
    "    os.makedirs(output_folder)\n",
    "\n",
    "# Process each file in the folder\n",
    "for filename in os.listdir(folder_path):\n",
    "    if filename.endswith(\".txt\"):\n",
    "        input_file = os.path.join(folder_path, filename)\n",
    "        output_file = os.path.join(output_folder, filename.replace(\".txt\", \"_transformed.csv\"))\n",
    "        process_file(input_file, output_file)\n"
   ]
  },
  {
   "cell_type": "code",
   "execution_count": 88,
   "id": "67a97a14",
   "metadata": {},
   "outputs": [
    {
     "name": "stdout",
     "output_type": "stream",
     "text": [
      "     2008-11-10  14:28:17.986759  M22          ON 2 2\n",
      "0    2008-11-10   14:28:18.78605  M19          ON 1 1\n",
      "1    2008-11-10  14:28:19.551189  M23          ON 2 2\n",
      "2    2008-11-10  14:28:20.048559  M18          ON 1 1\n",
      "3    2008-11-10  14:28:20.615459  M01          ON 2 2\n",
      "4    2008-11-10   14:28:21.00566  M17          ON 1 1\n",
      "..          ...              ...  ...             ...\n",
      "668  2008-11-10   15:00:38.99253  D12  OPEN 2 15 1 14\n",
      "669  2008-11-10   15:00:41.96863  M14   OFF 2 15 1 14\n",
      "670  2008-11-10  15:00:43.215759  M14    ON 2 15 1 14\n",
      "671  2008-11-10   15:00:45.04572  M21    ON 2 15 1 14\n",
      "672  2008-11-10  15:00:45.995589  M21   OFF 2 15 1 14\n",
      "\n",
      "[673 rows x 4 columns]\n"
     ]
    }
   ],
   "source": [
    "import pandas as pd\n",
    "\n",
    "# Replace 'file.txt' with the path to your .txt file\n",
    "file_path = '/Users/miro/Documents/ARAS/mdm-master_CLEAN/examples/casas/P01.txt'\n",
    "\n",
    "# Read the .txt file into a pandas DataFrame\n",
    "df = pd.read_csv(file_path, delimiter='\\t')  # Assuming tab-separated, change delimiter if necessary\n",
    "\n",
    "# Rename the columns\n",
    "df = df.rename(columns={0: 'date', 1: 'time', 2: 'sensor', 3: 'state'})\n",
    "\n",
    "# Display the DataFrame\n",
    "print(df)\n"
   ]
  },
  {
   "cell_type": "code",
   "execution_count": 89,
   "id": "bc509d10",
   "metadata": {},
   "outputs": [
    {
     "name": "stdout",
     "output_type": "stream",
     "text": [
      "           date             time sensor        activity\n",
      "0    2008-11-10   14:28:18.78605    M19          ON 1 1\n",
      "1    2008-11-10  14:28:19.551189    M23          ON 2 2\n",
      "2    2008-11-10  14:28:20.048559    M18          ON 1 1\n",
      "3    2008-11-10  14:28:20.615459    M01          ON 2 2\n",
      "4    2008-11-10   14:28:21.00566    M17          ON 1 1\n",
      "..          ...              ...    ...             ...\n",
      "668  2008-11-10   15:00:38.99253    D12  OPEN 2 15 1 14\n",
      "669  2008-11-10   15:00:41.96863    M14   OFF 2 15 1 14\n",
      "670  2008-11-10  15:00:43.215759    M14    ON 2 15 1 14\n",
      "671  2008-11-10   15:00:45.04572    M21    ON 2 15 1 14\n",
      "672  2008-11-10  15:00:45.995589    M21   OFF 2 15 1 14\n",
      "\n",
      "[673 rows x 4 columns]\n"
     ]
    }
   ],
   "source": [
    "# Rename the columns\n",
    "df = df.rename(columns={'2008-11-10': 'date', '14:28:17.986759': 'time', 'M22': 'sensor', 'ON 2 2': 'activity'})\n",
    "\n",
    "# Display the DataFrame\n",
    "print(df)\n"
   ]
  },
  {
   "cell_type": "code",
   "execution_count": 90,
   "id": "a3da367d",
   "metadata": {},
   "outputs": [],
   "source": [
    "# Split the 'activity' column at the first space into two columns\n",
    "df[['value', 'activity']] = df['activity'].str.split(n=1, expand=True)\n",
    "\n"
   ]
  },
  {
   "cell_type": "code",
   "execution_count": 91,
   "id": "5ece1c6a",
   "metadata": {},
   "outputs": [
    {
     "name": "stdout",
     "output_type": "stream",
     "text": [
      "           date             time sensor value   activity\n",
      "0    2008-11-10   14:28:18.78605    M19    ON        1 1\n",
      "1    2008-11-10  14:28:19.551189    M23    ON        2 2\n",
      "2    2008-11-10  14:28:20.048559    M18    ON        1 1\n",
      "3    2008-11-10  14:28:20.615459    M01    ON        2 2\n",
      "4    2008-11-10   14:28:21.00566    M17    ON        1 1\n",
      "..          ...              ...    ...   ...        ...\n",
      "668  2008-11-10   15:00:38.99253    D12  OPEN  2 15 1 14\n",
      "669  2008-11-10   15:00:41.96863    M14   OFF  2 15 1 14\n",
      "670  2008-11-10  15:00:43.215759    M14    ON  2 15 1 14\n",
      "671  2008-11-10   15:00:45.04572    M21    ON  2 15 1 14\n",
      "672  2008-11-10  15:00:45.995589    M21   OFF  2 15 1 14\n",
      "\n",
      "[673 rows x 5 columns]\n"
     ]
    }
   ],
   "source": [
    "# Reorder the columns to swap the location of 'value' and 'activity' columns\n",
    "df = df[['date', 'time', 'sensor', 'value', 'activity']]\n",
    "\n",
    "# Display the DataFrame\n",
    "print(df)\n"
   ]
  },
  {
   "cell_type": "code",
   "execution_count": 92,
   "id": "103b74fb",
   "metadata": {},
   "outputs": [
    {
     "name": "stdout",
     "output_type": "stream",
     "text": [
      "           date             time sensor value activity\n",
      "0    2008-11-10   14:28:18.78605    M19    ON        1\n",
      "1    2008-11-10  14:28:19.551189    M23    ON        2\n",
      "2    2008-11-10  14:28:20.048559    M18    ON        1\n",
      "3    2008-11-10  14:28:20.615459    M01    ON        2\n",
      "4    2008-11-10   14:28:21.00566    M17    ON        1\n",
      "..          ...              ...    ...   ...      ...\n",
      "668  2008-11-10   15:00:38.99253    D12  OPEN       15\n",
      "669  2008-11-10   15:00:41.96863    M14   OFF       15\n",
      "670  2008-11-10  15:00:43.215759    M14    ON       15\n",
      "671  2008-11-10   15:00:45.04572    M21    ON       15\n",
      "672  2008-11-10  15:00:45.995589    M21   OFF       15\n",
      "\n",
      "[673 rows x 5 columns]\n"
     ]
    }
   ],
   "source": [
    "# Extract the second integer from the 'activity' column\n",
    "df['activity'] = df['activity'].str.split().str[1]\n",
    "\n",
    "# Display the DataFrame\n",
    "print(df)"
   ]
  },
  {
   "cell_type": "code",
   "execution_count": 93,
   "id": "64b25bd6",
   "metadata": {},
   "outputs": [
    {
     "name": "stdout",
     "output_type": "stream",
     "text": [
      "['M19' 'M23' 'M18' 'M01' 'M17' 'D07' 'M21' 'M22' 'M03' 'I04' 'D12' 'I06'\n",
      " 'M26' 'M04' 'M02' 'M07' 'M08' 'M09' 'M14' 'M15' 'M16' 'M06' 'M10' 'M11'\n",
      " 'M51' 'D11' 'M13' 'M12' 'D14' 'D13' 'D10']\n"
     ]
    }
   ],
   "source": [
    "# Check for unique values in the 'sensor' column\n",
    "unique_sensors = df['sensor'].unique()\n",
    "\n",
    "# Display the unique sensor values\n",
    "print(unique_sensors)\n"
   ]
  },
  {
   "cell_type": "code",
   "execution_count": 94,
   "id": "9b2b3b63",
   "metadata": {},
   "outputs": [
    {
     "name": "stdout",
     "output_type": "stream",
     "text": [
      "           date             time          sensor value activity\n",
      "0    2008-11-10   14:28:18.78605   MotionSensorR    ON        1\n",
      "1    2008-11-10  14:28:19.551189   MotionSensorU    ON        2\n",
      "2    2008-11-10  14:28:20.048559   MotionSensorQ    ON        1\n",
      "3    2008-11-10  14:28:20.615459  MotionSensorAA    ON        2\n",
      "4    2008-11-10   14:28:21.00566   MotionSensorP    ON        1\n",
      "..          ...              ...             ...   ...      ...\n",
      "668  2008-11-10   15:00:38.99253     DoorSensorE  OPEN       15\n",
      "669  2008-11-10   15:00:41.96863   MotionSensorM   OFF       15\n",
      "670  2008-11-10  15:00:43.215759   MotionSensorM    ON       15\n",
      "671  2008-11-10   15:00:45.04572   MotionSensorS    ON       15\n",
      "672  2008-11-10  15:00:45.995589   MotionSensorS   OFF       15\n",
      "\n",
      "[673 rows x 5 columns]\n"
     ]
    }
   ],
   "source": [
    "# Define the mapping dictionary\n",
    "mapping = {\n",
    "    'M01': 'MotionSensorAA', 'M02': 'MotionSensorA', 'M03': 'MotionSensorB', 'M04': 'MotionSensorC',\n",
    "    'M05': 'MotionSensorD', 'M06': 'MotionSensorE', 'M07': 'MotionSensorF', 'M08': 'MotionSensorG',\n",
    "    'M09': 'MotionSensorH', 'M10': 'MotionSensorI', 'M11': 'MotionSensorJ', 'M12': 'MotionSensorK',\n",
    "    'M13': 'MotionSensorL', 'M14': 'MotionSensorM', 'M15': 'MotionSensorN', 'M16': 'MotionSensorO',\n",
    "    'M17': 'MotionSensorP', 'M18': 'MotionSensorQ', 'M19': 'MotionSensorR', 'M21': 'MotionSensorS',\n",
    "    'M22': 'MotionSensorT', 'M23': 'MotionSensorU', 'M26': 'MotionSensorV', 'M51': 'MotionSensorW',\n",
    "    'D01': 'DoorSensorA', 'D07': 'DoorSensorB', 'D10': 'DoorSensorC', 'D11': 'DoorSensorD',\n",
    "    'D12': 'DoorSensorE', 'D13': 'DoorSensorF', 'D14': 'DoorSensorG', 'L45': 'LightControllerA',\n",
    "    'L46': 'LightControllerB', 'L47': 'LightControllerC', 'L48': 'LightControllerD', 'L49': 'LightControllerE',\n",
    "    'L50': 'LightControllerF', 'L51': 'LightControllerG', 'L52': 'LightControllerH', 'L53': 'LightControllerI',\n",
    "    'L54': 'LightControllerJ', 'L55': 'LightControllerK', 'L56': 'LightControllerL', 'L57': 'LightControllerM',\n",
    "    'L58': 'LightControllerN', 'L59': 'LightControllerO', 'L60': 'LightControllerP', 'L61': 'LightControllerQ',\n",
    "    'L62': 'LightControllerR', 'L63': 'LightControllerS', 'L64': 'LightControllerT'\n",
    "}\n",
    "\n",
    "# Map the numeric values to strings without integers\n",
    "df['sensor'] = df['sensor'].map(mapping)\n",
    "\n",
    "# Display the DataFrame\n",
    "print(df)\n"
   ]
  },
  {
   "cell_type": "code",
   "execution_count": 95,
   "id": "67f36ac1",
   "metadata": {},
   "outputs": [
    {
     "name": "stdout",
     "output_type": "stream",
     "text": [
      "           date             time          sensor value         activity\n",
      "0    2008-11-10   14:28:18.78605   MotionSensorR    ON  Fill_Medication\n",
      "1    2008-11-10  14:28:19.551189   MotionSensorU    ON     Hang_Clothes\n",
      "2    2008-11-10  14:28:20.048559   MotionSensorQ    ON  Fill_Medication\n",
      "3    2008-11-10  14:28:20.615459  MotionSensorAA    ON     Hang_Clothes\n",
      "4    2008-11-10   14:28:21.00566   MotionSensorP    ON  Fill_Medication\n",
      "..          ...              ...             ...   ...              ...\n",
      "668  2008-11-10   15:00:38.99253     DoorSensorE  OPEN     Bring_Basket\n",
      "669  2008-11-10   15:00:41.96863   MotionSensorM   OFF     Bring_Basket\n",
      "670  2008-11-10  15:00:43.215759   MotionSensorM    ON     Bring_Basket\n",
      "671  2008-11-10   15:00:45.04572   MotionSensorS    ON     Bring_Basket\n",
      "672  2008-11-10  15:00:45.995589   MotionSensorS   OFF     Bring_Basket\n",
      "\n",
      "[673 rows x 5 columns]\n"
     ]
    }
   ],
   "source": [
    "# Define the mapping dictionary\n",
    "mapping = {\n",
    "    \"1\": \"Fill_Medication\",\n",
    "    \"2\": \"Hang_Clothes\",\n",
    "    \"3\": \"Move_Furniture\",\n",
    "    \"4\": \"Read_Magazine\",\n",
    "    \"5\": \"Water_Plants\",\n",
    "    \"6\": \"Sweep_Floor\",\n",
    "    \"7\": \"Play_Checkers\",\n",
    "    \"8\": \"Set_Dinner\",\n",
    "    \"9\": \"Set_Table\",\n",
    "    \"10\": \"Read_Magazine_2\",\n",
    "    \"11\": \"Pay_Bill\",\n",
    "    \"12\": \"Pack_Picnic\",\n",
    "    \"13\": \"Retrieve_Dishes\",\n",
    "    \"14\": \"Pack_Supplies\",\n",
    "    \"15\": \"Bring_Basket\"\n",
    "}\n",
    "\n",
    "# Map the activity numbers to their abbreviations\n",
    "df['activity'] = df['activity'].astype(str).map(mapping)\n",
    "\n",
    "# Display the DataFrame\n",
    "print(df)\n"
   ]
  },
  {
   "cell_type": "code",
   "execution_count": 96,
   "id": "07c1c7ba",
   "metadata": {},
   "outputs": [
    {
     "name": "stdout",
     "output_type": "stream",
     "text": [
      "           date             time          sensor        sensorid value  \\\n",
      "0    2008-11-10   14:28:18.78605   MotionSensorR   MotionSensorR    ON   \n",
      "1    2008-11-10  14:28:19.551189   MotionSensorU   MotionSensorU    ON   \n",
      "2    2008-11-10  14:28:20.048559   MotionSensorQ   MotionSensorQ    ON   \n",
      "3    2008-11-10  14:28:20.615459  MotionSensorAA  MotionSensorAA    ON   \n",
      "4    2008-11-10   14:28:21.00566   MotionSensorP   MotionSensorP    ON   \n",
      "..          ...              ...             ...             ...   ...   \n",
      "668  2008-11-10   15:00:38.99253     DoorSensorE     DoorSensorE  OPEN   \n",
      "669  2008-11-10   15:00:41.96863   MotionSensorM   MotionSensorM   OFF   \n",
      "670  2008-11-10  15:00:43.215759   MotionSensorM   MotionSensorM    ON   \n",
      "671  2008-11-10   15:00:45.04572   MotionSensorS   MotionSensorS    ON   \n",
      "672  2008-11-10  15:00:45.995589   MotionSensorS   MotionSensorS   OFF   \n",
      "\n",
      "            activity  \n",
      "0    Fill_Medication  \n",
      "1       Hang_Clothes  \n",
      "2    Fill_Medication  \n",
      "3       Hang_Clothes  \n",
      "4    Fill_Medication  \n",
      "..               ...  \n",
      "668     Bring_Basket  \n",
      "669     Bring_Basket  \n",
      "670     Bring_Basket  \n",
      "671     Bring_Basket  \n",
      "672     Bring_Basket  \n",
      "\n",
      "[673 rows x 6 columns]\n"
     ]
    }
   ],
   "source": [
    "# Duplicate the 'sensor' column and insert it after the original 'sensor' column\n",
    "df.insert(3, 'sensorid', df['sensor'])\n",
    "\n",
    "# Display the DataFrame\n",
    "print(df)\n"
   ]
  },
  {
   "cell_type": "code",
   "execution_count": 97,
   "id": "ae7bf2fc",
   "metadata": {},
   "outputs": [
    {
     "name": "stdout",
     "output_type": "stream",
     "text": [
      "           date             time          sensor        sensorid value  \\\n",
      "0    2008-11-10   14:28:18.78605   MotionSensorR   MotionSensorR    ON   \n",
      "1    2008-11-10  14:28:19.551189   MotionSensorU   MotionSensorU    ON   \n",
      "2    2008-11-10  14:28:20.048559   MotionSensorQ   MotionSensorQ    ON   \n",
      "3    2008-11-10  14:28:20.615459  MotionSensorAA  MotionSensorAA    ON   \n",
      "4    2008-11-10   14:28:21.00566   MotionSensorP   MotionSensorP    ON   \n",
      "..          ...              ...             ...             ...   ...   \n",
      "668  2008-11-10   15:00:38.99253     DoorSensorE     DoorSensorE  OPEN   \n",
      "669  2008-11-10   15:00:41.96863   MotionSensorM   MotionSensorM   OFF   \n",
      "670  2008-11-10  15:00:43.215759   MotionSensorM   MotionSensorM    ON   \n",
      "671  2008-11-10   15:00:45.04572   MotionSensorS   MotionSensorS    ON   \n",
      "672  2008-11-10  15:00:45.995589   MotionSensorS   MotionSensorS   OFF   \n",
      "\n",
      "            activity  \n",
      "0    Fill_Medication  \n",
      "1       Hang_Clothes  \n",
      "2    Fill_Medication  \n",
      "3       Hang_Clothes  \n",
      "4    Fill_Medication  \n",
      "..               ...  \n",
      "668     Bring_Basket  \n",
      "669     Bring_Basket  \n",
      "670     Bring_Basket  \n",
      "671     Bring_Basket  \n",
      "672     Bring_Basket  \n",
      "\n",
      "[673 rows x 6 columns]\n"
     ]
    }
   ],
   "source": [
    "print(df)\n"
   ]
  },
  {
   "cell_type": "code",
   "execution_count": 98,
   "id": "f9363290",
   "metadata": {},
   "outputs": [
    {
     "name": "stdout",
     "output_type": "stream",
     "text": [
      "           date             time          sensor        sensorid value  \\\n",
      "0    2008-11-10   14:28:18.78605   MotionSensorR   MotionSensorR    ON   \n",
      "1    2008-11-10  14:28:19.551189   MotionSensorU   MotionSensorU    ON   \n",
      "2    2008-11-10  14:28:20.048559   MotionSensorQ   MotionSensorQ    ON   \n",
      "3    2008-11-10  14:28:20.615459  MotionSensorAA  MotionSensorAA    ON   \n",
      "4    2008-11-10   14:28:21.00566   MotionSensorP   MotionSensorP    ON   \n",
      "..          ...              ...             ...             ...   ...   \n",
      "668  2008-11-10   15:00:38.99253     DoorSensorE     DoorSensorE  OPEN   \n",
      "669  2008-11-10   15:00:41.96863   MotionSensorM   MotionSensorM   OFF   \n",
      "670  2008-11-10  15:00:43.215759   MotionSensorM   MotionSensorM    ON   \n",
      "671  2008-11-10   15:00:45.04572   MotionSensorS   MotionSensorS    ON   \n",
      "672  2008-11-10  15:00:45.995589   MotionSensorS   MotionSensorS   OFF   \n",
      "\n",
      "            activity  \n",
      "0    Fill_Medication  \n",
      "1       Hang_Clothes  \n",
      "2    Fill_Medication  \n",
      "3       Hang_Clothes  \n",
      "4    Fill_Medication  \n",
      "..               ...  \n",
      "668     Bring_Basket  \n",
      "669     Bring_Basket  \n",
      "670     Bring_Basket  \n",
      "671     Bring_Basket  \n",
      "672     Bring_Basket  \n",
      "\n",
      "[667 rows x 6 columns]\n"
     ]
    }
   ],
   "source": [
    "# Remove rows with NaN values\n",
    "df_cleaned = df.dropna()\n",
    "\n",
    "# Display the cleaned DataFrame\n",
    "print(df_cleaned)"
   ]
  },
  {
   "cell_type": "code",
   "execution_count": 99,
   "id": "1f758089",
   "metadata": {},
   "outputs": [
    {
     "data": {
      "text/plain": [
       "array(['MotionSensorR', 'MotionSensorU', 'MotionSensorQ',\n",
       "       'MotionSensorAA', 'MotionSensorP', 'DoorSensorB', 'MotionSensorS',\n",
       "       'MotionSensorT', 'MotionSensorB', 'DoorSensorE', 'MotionSensorV',\n",
       "       'MotionSensorC', 'MotionSensorA', 'MotionSensorF', 'MotionSensorG',\n",
       "       'MotionSensorH', 'MotionSensorM', 'MotionSensorN', 'MotionSensorO',\n",
       "       'MotionSensorE', 'MotionSensorI', 'MotionSensorJ', 'MotionSensorW',\n",
       "       'DoorSensorD', 'MotionSensorL', 'MotionSensorK', 'DoorSensorG',\n",
       "       'DoorSensorF', 'DoorSensorC'], dtype=object)"
      ]
     },
     "execution_count": 99,
     "metadata": {},
     "output_type": "execute_result"
    }
   ],
   "source": [
    "df_cleaned.sensor.unique()"
   ]
  },
  {
   "cell_type": "code",
   "execution_count": 100,
   "id": "5120154d",
   "metadata": {},
   "outputs": [
    {
     "name": "stdout",
     "output_type": "stream",
     "text": [
      "DataFrame saved to pone.csv without header, columns separated by spaces\n"
     ]
    }
   ],
   "source": [
    "# Replace 'output_file.csv' with the desired filename and path\n",
    "output_file = 'pone.csv'\n",
    "\n",
    "# Save the DataFrame to a CSV file without header, separating columns by spaces\n",
    "df_cleaned.to_csv(output_file, index=False, header=False, sep=' ')\n",
    "\n",
    "print(f\"DataFrame saved to {output_file} without header, columns separated by spaces\")\n",
    "\n"
   ]
  },
  {
   "cell_type": "code",
   "execution_count": 78,
   "id": "65791adf",
   "metadata": {},
   "outputs": [
    {
     "name": "stdout",
     "output_type": "stream",
     "text": [
      "           date             time sensor sensorid    value         activity\n",
      "16   2008-11-10  14:28:32.473779    NaN      NaN   ABSENT  Fill_Medication\n",
      "21   2008-11-10   14:28:36.62255    NaN      NaN   ABSENT  Fill_Medication\n",
      "164  2008-11-10   14:33:11.57974    NaN      NaN  PRESENT  Fill_Medication\n",
      "170  2008-11-10    14:33:22.2011    NaN      NaN  PRESENT  Fill_Medication\n",
      "171  2008-11-10  14:33:24.046519    NaN      NaN   ABSENT  Fill_Medication\n",
      "172  2008-11-10   14:33:24.66789    NaN      NaN  PRESENT  Fill_Medication\n"
     ]
    }
   ],
   "source": [
    "# Find rows with NaN values\n",
    "rows_with_nan = df[df.isna().any(axis=1)]\n",
    "\n",
    "# Display the rows with NaN values\n",
    "print(rows_with_nan)\n"
   ]
  },
  {
   "cell_type": "code",
   "execution_count": null,
   "id": "206e84a1",
   "metadata": {},
   "outputs": [],
   "source": []
  }
 ],
 "metadata": {
  "kernelspec": {
   "display_name": "Python 3 (ipykernel)",
   "language": "python",
   "name": "python3"
  },
  "language_info": {
   "codemirror_mode": {
    "name": "ipython",
    "version": 3
   },
   "file_extension": ".py",
   "mimetype": "text/x-python",
   "name": "python",
   "nbconvert_exporter": "python",
   "pygments_lexer": "ipython3",
   "version": "3.9.12"
  }
 },
 "nbformat": 4,
 "nbformat_minor": 5
}
