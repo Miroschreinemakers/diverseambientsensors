{
 "cells": [
  {
   "cell_type": "code",
   "execution_count": 12,
   "id": "67a97a14",
   "metadata": {},
   "outputs": [
    {
     "name": "stdout",
     "output_type": "stream",
     "text": [
      "             date             time sensor       activity\n",
      "0      2008-11-20   14:17:37.22788    M15         ON 1 1\n",
      "1      2008-11-20  14:17:37.842819    M16         ON 1 1\n",
      "2      2008-11-20    14:17:39.4507    D07       OPEN 1 1\n",
      "3      2008-11-20  14:17:39.866019    M17         ON 1 1\n",
      "4      2008-11-20  14:17:40.266839    M23         ON 2 2\n",
      "...           ...              ...    ...            ...\n",
      "17229  2008-12-08   08:54:05.97179    M19   ON 1 14 2 15\n",
      "17230  2008-12-08  08:54:07.642649    M18   ON 1 14 2 15\n",
      "17231  2008-12-08  08:54:08.216989    M17   ON 1 14 2 15\n",
      "17232  2008-12-08  08:54:09.599459    M19  OFF 1 14 2 15\n",
      "17233  2008-12-08   08:54:11.00337    M18  OFF 1 14 2 15\n",
      "\n",
      "[17234 rows x 4 columns]\n"
     ]
    }
   ],
   "source": [
    "import os\n",
    "import pandas as pd\n",
    "\n",
    "# Path to the folder containing .txt files\n",
    "folder_path = '/Users/miro/Documents/ARAS/mdm-master_CLEAN/examples/casas/'\n",
    "\n",
    "# Get a list of all .txt files in the folder\n",
    "txt_files = [file for file in os.listdir(folder_path) if file.endswith('.txt')]\n",
    "\n",
    "# Initialize an empty list to store DataFrames\n",
    "dfs = []\n",
    "\n",
    "# Read each .txt file into a DataFrame and append it to the list\n",
    "for file in txt_files:\n",
    "    file_path = os.path.join(folder_path, file)\n",
    "    df = pd.read_csv(file_path, delimiter='\\t', header=None)\n",
    "    dfs.append(df)\n",
    "\n",
    "# Concatenate all DataFrames into a single DataFrame\n",
    "combined_df = pd.concat(dfs, ignore_index=True)\n",
    "\n",
    "# Rename the columns\n",
    "combined_df = combined_df.rename(columns={0: 'date', 1: 'time', 2: 'sensor', 3: 'activity'})\n",
    "\n",
    "# Display the combined DataFrame\n",
    "print(combined_df)\n",
    "\n"
   ]
  },
  {
   "cell_type": "code",
   "execution_count": 13,
   "id": "a3da367d",
   "metadata": {},
   "outputs": [],
   "source": [
    "# Split the 'activity' column at the first space into two columns\n",
    "combined_df[['value', 'activity']] = combined_df['activity'].str.split(n=1, expand=True)\n",
    "\n"
   ]
  },
  {
   "cell_type": "code",
   "execution_count": 14,
   "id": "5ece1c6a",
   "metadata": {},
   "outputs": [
    {
     "name": "stdout",
     "output_type": "stream",
     "text": [
      "             date             time sensor value   activity\n",
      "0      2008-11-20   14:17:37.22788    M15    ON        1 1\n",
      "1      2008-11-20  14:17:37.842819    M16    ON        1 1\n",
      "2      2008-11-20    14:17:39.4507    D07  OPEN        1 1\n",
      "3      2008-11-20  14:17:39.866019    M17    ON        1 1\n",
      "4      2008-11-20  14:17:40.266839    M23    ON        2 2\n",
      "...           ...              ...    ...   ...        ...\n",
      "17229  2008-12-08   08:54:05.97179    M19    ON  1 14 2 15\n",
      "17230  2008-12-08  08:54:07.642649    M18    ON  1 14 2 15\n",
      "17231  2008-12-08  08:54:08.216989    M17    ON  1 14 2 15\n",
      "17232  2008-12-08  08:54:09.599459    M19   OFF  1 14 2 15\n",
      "17233  2008-12-08   08:54:11.00337    M18   OFF  1 14 2 15\n",
      "\n",
      "[17234 rows x 5 columns]\n"
     ]
    }
   ],
   "source": [
    "# Reorder the columns to swap the location of 'value' and 'activity' columns\n",
    "combined_df = combined_df[['date', 'time', 'sensor', 'value', 'activity']]\n",
    "\n",
    "# Display the DataFrame\n",
    "print(combined_df)\n"
   ]
  },
  {
   "cell_type": "code",
   "execution_count": 15,
   "id": "103b74fb",
   "metadata": {},
   "outputs": [
    {
     "name": "stdout",
     "output_type": "stream",
     "text": [
      "             date             time sensor value activity\n",
      "0      2008-11-20   14:17:37.22788    M15    ON        1\n",
      "1      2008-11-20  14:17:37.842819    M16    ON        1\n",
      "2      2008-11-20    14:17:39.4507    D07  OPEN        1\n",
      "3      2008-11-20  14:17:39.866019    M17    ON        1\n",
      "4      2008-11-20  14:17:40.266839    M23    ON        2\n",
      "...           ...              ...    ...   ...      ...\n",
      "17229  2008-12-08   08:54:05.97179    M19    ON       14\n",
      "17230  2008-12-08  08:54:07.642649    M18    ON       14\n",
      "17231  2008-12-08  08:54:08.216989    M17    ON       14\n",
      "17232  2008-12-08  08:54:09.599459    M19   OFF       14\n",
      "17233  2008-12-08   08:54:11.00337    M18   OFF       14\n",
      "\n",
      "[17234 rows x 5 columns]\n"
     ]
    }
   ],
   "source": [
    "# Extract the second integer from the 'activity' column\n",
    "combined_df['activity'] = combined_df['activity'].str.split().str[1]\n",
    "\n",
    "# Display the DataFrame\n",
    "print(combined_df)"
   ]
  },
  {
   "cell_type": "code",
   "execution_count": 16,
   "id": "64b25bd6",
   "metadata": {},
   "outputs": [
    {
     "name": "stdout",
     "output_type": "stream",
     "text": [
      "['M15' 'M16' 'D07' 'M17' 'M23' 'D12' 'M02' 'M01' 'I04' 'I06' 'M07' 'M08'\n",
      " 'M14' 'M06' 'M09' 'M04' 'M03' 'M22' 'M21' 'M19' 'M18' 'M51' 'D11' 'M11'\n",
      " 'M12' 'M13' 'D14' 'M10' 'D13' 'D10' 'M05' 'D15' 'D09' 'M25' 'M24' 'M26'\n",
      " 'M20']\n"
     ]
    }
   ],
   "source": [
    "# Check for unique values in the 'sensor' column\n",
    "unique_sensors = combined_df['sensor'].unique()\n",
    "\n",
    "# Display the unique sensor values\n",
    "print(unique_sensors)\n"
   ]
  },
  {
   "cell_type": "code",
   "execution_count": 17,
   "id": "9b2b3b63",
   "metadata": {},
   "outputs": [
    {
     "name": "stdout",
     "output_type": "stream",
     "text": [
      "             date             time         sensor value activity\n",
      "0      2008-11-20   14:17:37.22788  MotionSensorN    ON        1\n",
      "1      2008-11-20  14:17:37.842819  MotionSensorO    ON        1\n",
      "2      2008-11-20    14:17:39.4507    DoorSensorB  OPEN        1\n",
      "3      2008-11-20  14:17:39.866019  MotionSensorP    ON        1\n",
      "4      2008-11-20  14:17:40.266839  MotionSensorU    ON        2\n",
      "...           ...              ...            ...   ...      ...\n",
      "17229  2008-12-08   08:54:05.97179  MotionSensorR    ON       14\n",
      "17230  2008-12-08  08:54:07.642649  MotionSensorQ    ON       14\n",
      "17231  2008-12-08  08:54:08.216989  MotionSensorP    ON       14\n",
      "17232  2008-12-08  08:54:09.599459  MotionSensorR   OFF       14\n",
      "17233  2008-12-08   08:54:11.00337  MotionSensorQ   OFF       14\n",
      "\n",
      "[17234 rows x 5 columns]\n"
     ]
    }
   ],
   "source": [
    "# Define the mapping dictionary\n",
    "mapping = {\n",
    "    'M01': 'MotionSensorAA', 'M02': 'MotionSensorA', 'M03': 'MotionSensorB', 'M04': 'MotionSensorC',\n",
    "    'M05': 'MotionSensorD', 'M06': 'MotionSensorE', 'M07': 'MotionSensorF', 'M08': 'MotionSensorG',\n",
    "    'M09': 'MotionSensorH', 'M10': 'MotionSensorI', 'M11': 'MotionSensorJ', 'M12': 'MotionSensorK',\n",
    "    'M13': 'MotionSensorL', 'M14': 'MotionSensorM', 'M15': 'MotionSensorN', 'M16': 'MotionSensorO',\n",
    "    'M17': 'MotionSensorP', 'M18': 'MotionSensorQ', 'M19': 'MotionSensorR', 'M21': 'MotionSensorS',\n",
    "    'M22': 'MotionSensorT', 'M23': 'MotionSensorU', 'M26': 'MotionSensorV', 'M51': 'MotionSensorW',\n",
    "    'D01': 'DoorSensorA', 'D07': 'DoorSensorB', 'D10': 'DoorSensorC', 'D11': 'DoorSensorD',\n",
    "    'D12': 'DoorSensorE', 'D13': 'DoorSensorF', 'D14': 'DoorSensorG', 'L45': 'LightControllerA',\n",
    "    'L46': 'LightControllerB', 'L47': 'LightControllerC', 'L48': 'LightControllerD', 'L49': 'LightControllerE',\n",
    "    'L50': 'LightControllerF', 'L51': 'LightControllerG', 'L52': 'LightControllerH', 'L53': 'LightControllerI',\n",
    "    'L54': 'LightControllerJ', 'L55': 'LightControllerK', 'L56': 'LightControllerL', 'L57': 'LightControllerM',\n",
    "    'L58': 'LightControllerN', 'L59': 'LightControllerO', 'L60': 'LightControllerP', 'L61': 'LightControllerQ',\n",
    "    'L62': 'LightControllerR', 'L63': 'LightControllerS', 'L64': 'LightControllerT'\n",
    "}\n",
    "\n",
    "# Map the numeric values to strings without integers\n",
    "combined_df['sensor'] = combined_df['sensor'].map(mapping)\n",
    "\n",
    "# Display the DataFrame\n",
    "print(combined_df)\n"
   ]
  },
  {
   "cell_type": "code",
   "execution_count": 18,
   "id": "67f36ac1",
   "metadata": {},
   "outputs": [
    {
     "name": "stdout",
     "output_type": "stream",
     "text": [
      "             date             time         sensor value         activity\n",
      "0      2008-11-20   14:17:37.22788  MotionSensorN    ON  Fill_Medication\n",
      "1      2008-11-20  14:17:37.842819  MotionSensorO    ON  Fill_Medication\n",
      "2      2008-11-20    14:17:39.4507    DoorSensorB  OPEN  Fill_Medication\n",
      "3      2008-11-20  14:17:39.866019  MotionSensorP    ON  Fill_Medication\n",
      "4      2008-11-20  14:17:40.266839  MotionSensorU    ON     Hang_Clothes\n",
      "...           ...              ...            ...   ...              ...\n",
      "17229  2008-12-08   08:54:05.97179  MotionSensorR    ON    Pack_Supplies\n",
      "17230  2008-12-08  08:54:07.642649  MotionSensorQ    ON    Pack_Supplies\n",
      "17231  2008-12-08  08:54:08.216989  MotionSensorP    ON    Pack_Supplies\n",
      "17232  2008-12-08  08:54:09.599459  MotionSensorR   OFF    Pack_Supplies\n",
      "17233  2008-12-08   08:54:11.00337  MotionSensorQ   OFF    Pack_Supplies\n",
      "\n",
      "[17234 rows x 5 columns]\n"
     ]
    }
   ],
   "source": [
    "# Define the mapping dictionary\n",
    "mapping = {\n",
    "    \"1\": \"Fill_Medication\",\n",
    "    \"2\": \"Hang_Clothes\",\n",
    "    \"3\": \"Move_Furniture\",\n",
    "    \"4\": \"Read_Magazine\",\n",
    "    \"5\": \"Water_Plants\",\n",
    "    \"6\": \"Sweep_Floor\",\n",
    "    \"7\": \"Play_Checkers\",\n",
    "    \"8\": \"Set_Dinner\",\n",
    "    \"9\": \"Set_Table\",\n",
    "    \"10\": \"Read_Magazine_2\",\n",
    "    \"11\": \"Pay_Bill\",\n",
    "    \"12\": \"Pack_Picnic\",\n",
    "    \"13\": \"Retrieve_Dishes\",\n",
    "    \"14\": \"Pack_Supplies\",\n",
    "    \"15\": \"Bring_Basket\"\n",
    "}\n",
    "\n",
    "# Map the activity numbers to their abbreviations\n",
    "combined_df['activity'] = combined_df['activity'].astype(str).map(mapping)\n",
    "\n",
    "# Display the DataFrame\n",
    "print(combined_df)\n"
   ]
  },
  {
   "cell_type": "code",
   "execution_count": 19,
   "id": "07c1c7ba",
   "metadata": {},
   "outputs": [
    {
     "name": "stdout",
     "output_type": "stream",
     "text": [
      "             date             time         sensor       sensorid value  \\\n",
      "0      2008-11-20   14:17:37.22788  MotionSensorN  MotionSensorN    ON   \n",
      "1      2008-11-20  14:17:37.842819  MotionSensorO  MotionSensorO    ON   \n",
      "2      2008-11-20    14:17:39.4507    DoorSensorB    DoorSensorB  OPEN   \n",
      "3      2008-11-20  14:17:39.866019  MotionSensorP  MotionSensorP    ON   \n",
      "4      2008-11-20  14:17:40.266839  MotionSensorU  MotionSensorU    ON   \n",
      "...           ...              ...            ...            ...   ...   \n",
      "17229  2008-12-08   08:54:05.97179  MotionSensorR  MotionSensorR    ON   \n",
      "17230  2008-12-08  08:54:07.642649  MotionSensorQ  MotionSensorQ    ON   \n",
      "17231  2008-12-08  08:54:08.216989  MotionSensorP  MotionSensorP    ON   \n",
      "17232  2008-12-08  08:54:09.599459  MotionSensorR  MotionSensorR   OFF   \n",
      "17233  2008-12-08   08:54:11.00337  MotionSensorQ  MotionSensorQ   OFF   \n",
      "\n",
      "              activity  \n",
      "0      Fill_Medication  \n",
      "1      Fill_Medication  \n",
      "2      Fill_Medication  \n",
      "3      Fill_Medication  \n",
      "4         Hang_Clothes  \n",
      "...                ...  \n",
      "17229    Pack_Supplies  \n",
      "17230    Pack_Supplies  \n",
      "17231    Pack_Supplies  \n",
      "17232    Pack_Supplies  \n",
      "17233    Pack_Supplies  \n",
      "\n",
      "[17234 rows x 6 columns]\n"
     ]
    }
   ],
   "source": [
    "# Duplicate the 'sensor' column and insert it after the original 'sensor' column\n",
    "combined_df.insert(3, 'sensorid', combined_df['sensor'])\n",
    "\n",
    "# Display the DataFrame\n",
    "print(combined_df)\n"
   ]
  },
  {
   "cell_type": "code",
   "execution_count": 20,
   "id": "ae7bf2fc",
   "metadata": {},
   "outputs": [
    {
     "name": "stdout",
     "output_type": "stream",
     "text": [
      "             date             time         sensor       sensorid value  \\\n",
      "0      2008-11-20   14:17:37.22788  MotionSensorN  MotionSensorN    ON   \n",
      "1      2008-11-20  14:17:37.842819  MotionSensorO  MotionSensorO    ON   \n",
      "2      2008-11-20    14:17:39.4507    DoorSensorB    DoorSensorB  OPEN   \n",
      "3      2008-11-20  14:17:39.866019  MotionSensorP  MotionSensorP    ON   \n",
      "4      2008-11-20  14:17:40.266839  MotionSensorU  MotionSensorU    ON   \n",
      "...           ...              ...            ...            ...   ...   \n",
      "17229  2008-12-08   08:54:05.97179  MotionSensorR  MotionSensorR    ON   \n",
      "17230  2008-12-08  08:54:07.642649  MotionSensorQ  MotionSensorQ    ON   \n",
      "17231  2008-12-08  08:54:08.216989  MotionSensorP  MotionSensorP    ON   \n",
      "17232  2008-12-08  08:54:09.599459  MotionSensorR  MotionSensorR   OFF   \n",
      "17233  2008-12-08   08:54:11.00337  MotionSensorQ  MotionSensorQ   OFF   \n",
      "\n",
      "              activity  \n",
      "0      Fill_Medication  \n",
      "1      Fill_Medication  \n",
      "2      Fill_Medication  \n",
      "3      Fill_Medication  \n",
      "4         Hang_Clothes  \n",
      "...                ...  \n",
      "17229    Pack_Supplies  \n",
      "17230    Pack_Supplies  \n",
      "17231    Pack_Supplies  \n",
      "17232    Pack_Supplies  \n",
      "17233    Pack_Supplies  \n",
      "\n",
      "[17234 rows x 6 columns]\n"
     ]
    }
   ],
   "source": [
    "print(combined_df)\n"
   ]
  },
  {
   "cell_type": "code",
   "execution_count": 21,
   "id": "f9363290",
   "metadata": {},
   "outputs": [
    {
     "name": "stdout",
     "output_type": "stream",
     "text": [
      "             date             time         sensor       sensorid value  \\\n",
      "0      2008-11-20   14:17:37.22788  MotionSensorN  MotionSensorN    ON   \n",
      "1      2008-11-20  14:17:37.842819  MotionSensorO  MotionSensorO    ON   \n",
      "2      2008-11-20    14:17:39.4507    DoorSensorB    DoorSensorB  OPEN   \n",
      "3      2008-11-20  14:17:39.866019  MotionSensorP  MotionSensorP    ON   \n",
      "4      2008-11-20  14:17:40.266839  MotionSensorU  MotionSensorU    ON   \n",
      "...           ...              ...            ...            ...   ...   \n",
      "17229  2008-12-08   08:54:05.97179  MotionSensorR  MotionSensorR    ON   \n",
      "17230  2008-12-08  08:54:07.642649  MotionSensorQ  MotionSensorQ    ON   \n",
      "17231  2008-12-08  08:54:08.216989  MotionSensorP  MotionSensorP    ON   \n",
      "17232  2008-12-08  08:54:09.599459  MotionSensorR  MotionSensorR   OFF   \n",
      "17233  2008-12-08   08:54:11.00337  MotionSensorQ  MotionSensorQ   OFF   \n",
      "\n",
      "              activity  \n",
      "0      Fill_Medication  \n",
      "1      Fill_Medication  \n",
      "2      Fill_Medication  \n",
      "3      Fill_Medication  \n",
      "4         Hang_Clothes  \n",
      "...                ...  \n",
      "17229    Pack_Supplies  \n",
      "17230    Pack_Supplies  \n",
      "17231    Pack_Supplies  \n",
      "17232    Pack_Supplies  \n",
      "17233    Pack_Supplies  \n",
      "\n",
      "[17087 rows x 6 columns]\n"
     ]
    }
   ],
   "source": [
    "# Remove rows with NaN values\n",
    "combined_df_cleaned = combined_df.dropna()\n",
    "\n",
    "# Display the cleaned DataFrame\n",
    "print(combined_df_cleaned)"
   ]
  },
  {
   "cell_type": "code",
   "execution_count": 22,
   "id": "1f758089",
   "metadata": {},
   "outputs": [
    {
     "data": {
      "text/plain": [
       "array(['MotionSensorN', 'MotionSensorO', 'DoorSensorB', 'MotionSensorP',\n",
       "       'MotionSensorU', 'DoorSensorE', 'MotionSensorA', 'MotionSensorAA',\n",
       "       'MotionSensorF', 'MotionSensorG', 'MotionSensorM', 'MotionSensorE',\n",
       "       'MotionSensorH', 'MotionSensorC', 'MotionSensorB', 'MotionSensorT',\n",
       "       'MotionSensorS', 'MotionSensorR', 'MotionSensorQ', 'MotionSensorW',\n",
       "       'DoorSensorD', 'MotionSensorJ', 'MotionSensorK', 'MotionSensorL',\n",
       "       'DoorSensorG', 'MotionSensorI', 'DoorSensorF', 'DoorSensorC',\n",
       "       'MotionSensorD', 'MotionSensorV'], dtype=object)"
      ]
     },
     "execution_count": 22,
     "metadata": {},
     "output_type": "execute_result"
    }
   ],
   "source": [
    "combined_df_cleaned.sensor.unique()"
   ]
  },
  {
   "cell_type": "code",
   "execution_count": 23,
   "id": "5120154d",
   "metadata": {},
   "outputs": [
    {
     "name": "stdout",
     "output_type": "stream",
     "text": [
      "DataFrame saved to casas_transformed.csv without header, columns separated by spaces\n"
     ]
    }
   ],
   "source": [
    "# Replace 'output_file.csv' with the desired filename and path\n",
    "output_file = 'casas_transformed.csv'\n",
    "\n",
    "# Save the DataFrame to a CSV file without header, separating columns by spaces\n",
    "combined_df_cleaned.to_csv(output_file, index=False, header=False, sep=' ')\n",
    "\n",
    "print(f\"DataFrame saved to {output_file} without header, columns separated by spaces\")\n",
    "\n"
   ]
  },
  {
   "cell_type": "code",
   "execution_count": 78,
   "id": "65791adf",
   "metadata": {
    "scrolled": true
   },
   "outputs": [
    {
     "name": "stdout",
     "output_type": "stream",
     "text": [
      "           date             time sensor sensorid    value         activity\n",
      "16   2008-11-10  14:28:32.473779    NaN      NaN   ABSENT  Fill_Medication\n",
      "21   2008-11-10   14:28:36.62255    NaN      NaN   ABSENT  Fill_Medication\n",
      "164  2008-11-10   14:33:11.57974    NaN      NaN  PRESENT  Fill_Medication\n",
      "170  2008-11-10    14:33:22.2011    NaN      NaN  PRESENT  Fill_Medication\n",
      "171  2008-11-10  14:33:24.046519    NaN      NaN   ABSENT  Fill_Medication\n",
      "172  2008-11-10   14:33:24.66789    NaN      NaN  PRESENT  Fill_Medication\n"
     ]
    }
   ],
   "source": [
    "# Find rows with NaN values\n",
    "rows_with_nan = df[df.isna().any(axis=1)]\n",
    "\n",
    "# Display the rows with NaN values\n",
    "print(rows_with_nan)\n"
   ]
  },
  {
   "cell_type": "code",
   "execution_count": 41,
   "id": "206e84a1",
   "metadata": {},
   "outputs": [],
   "source": [
    "import os\n",
    "import pandas as pd\n",
    "from gensim.models import Word2Vec\n",
    "\n",
    "# Load the CSV file\n",
    "csv_file_path = '/Users/miro/Documents/ARAS/activity_segmentation_copy_2_test/next_action_prediction/casas_transformed.csv'\n",
    "df = pd.read_csv(csv_file_path, sep=' ')\n",
    "\n",
    "# Assuming your sensor data is in the third column\n",
    "sensor_data_column = df.iloc[:, 2]\n",
    "\n",
    "# Convert the sensor data column to a list of lists (sequences)\n",
    "data = sensor_data_column.apply(lambda x: x.split()).tolist()\n",
    "\n",
    "# Define filenames based on the provided filenames\n",
    "filenames = [\n",
    "    \"word2vec_retrofitted_activities_locations_from_data_embedding_size_50_iterations_100_word2vec_window_5\",\n",
    "    \"word2vec_embedding_size_50_iterations_5_word2vec_window_5\",\n",
    "    \"word2vec_embedding_size_50_iterations_100_word2vec_window_1\",\n",
    "    \"word2vec_embedding_size_50_iterations_100_word2vec_window_5\",\n",
    "    \"word2vec_retrofitted_activities_embedding_size_50_iterations_5_word2vec_window_5\",\n",
    "    \"word2vec_retrofitted_activities_embedding_size_50_iterations_100_word2vec_window_5\",\n",
    "    \"word2vec_retrofitted_activities_from_data_embedding_size_50_iterations_5_word2vec_window_5\",\n",
    "    \"word2vec_retrofitted_activities_from_data_embedding_size_50_iterations_100_word2vec_window_5\",\n",
    "    \"word2vec_retrofitted_activities_locations_embedding_size_50_iterations_5_word2vec_window_5\",\n",
    "    \"word2vec_retrofitted_activities_locations_embedding_size_50_iterations_100_word2vec_window_5\",\n",
    "    \"word2vec_retrofitted_activities_locations_from_data_embedding_size_50_iterations_5_word2vec_window_5\",\n",
    "    \"word2vec_retrofitted_locations_embedding_size_50_iterations_5_word2vec_window_5\",\n",
    "    \"word2vec_retrofitted_locations_embedding_size_50_iterations_100_word2vec_window_5\",\n",
    "    \"word2vec_retrofitted_locations_from_data_embedding_size_50_iterations_5_word2vec_window_5\",\n",
    "    \"word2vec_retrofitted_locations_from_data_embedding_size_50_iterations_100_word2vec_window_5\"\n",
    "]\n",
    "\n",
    "# Define the directory to save the files\n",
    "save_dir = '/Users/miro/Documents/ARAS/activity_segmentation_copy_2_test/next_action_prediction/word2vec_models/new'\n",
    "\n",
    "# Define corresponding parameters for each filename\n",
    "parameters = [\n",
    "    {\"size\": 50, \"iter\": 100, \"window\": 5},\n",
    "    {\"size\": 50, \"iter\": 5, \"window\": 5},\n",
    "    {\"size\": 50, \"iter\": 100, \"window\": 1},\n",
    "    {\"size\": 50, \"iter\": 100, \"window\": 5},\n",
    "    {\"size\": 50, \"iter\": 5, \"window\": 5},\n",
    "    {\"size\": 50, \"iter\": 100, \"window\": 5},\n",
    "    {\"size\": 50, \"iter\": 5, \"window\": 5},\n",
    "    {\"size\": 50, \"iter\": 100, \"window\": 5},\n",
    "    {\"size\": 50, \"iter\": 5, \"window\": 5},\n",
    "    {\"size\": 50, \"iter\": 100, \"window\": 5},\n",
    "    {\"size\": 50, \"iter\": 5, \"window\": 5},\n",
    "    {\"size\": 50, \"iter\": 5, \"window\": 5},\n",
    "    {\"size\": 50, \"iter\": 100, \"window\": 5},\n",
    "    {\"size\": 50, \"iter\": 5, \"window\": 5},\n",
    "    {\"size\": 50, \"iter\": 100, \"window\": 5}\n",
    "]\n",
    "\n",
    "# Train and save Word2Vec models for each filename\n",
    "for filename, params in zip(filenames, parameters):\n",
    "    model = Word2Vec(sentences=data, vector_size=params[\"size\"], window=params[\"window\"], min_count=1, epochs=params[\"iter\"])\n",
    "    save_path = os.path.join(save_dir, filename)\n",
    "    \n",
    "    # Save the embeddings with sensor name and embeddings separated by comma and embeddings separated by space\n",
    "    with open(save_path, 'w') as file:\n",
    "        for word in model.wv.index_to_key:\n",
    "            embedding = ' '.join(map(str, model.wv[word]))\n",
    "            line = f\"{word},{embedding}\\n\"\n",
    "            file.write(line)\n"
   ]
  },
  {
   "cell_type": "code",
   "execution_count": null,
   "id": "c957486b",
   "metadata": {},
   "outputs": [],
   "source": []
  }
 ],
 "metadata": {
  "kernelspec": {
   "display_name": "Python 3 (ipykernel)",
   "language": "python",
   "name": "python3"
  },
  "language_info": {
   "codemirror_mode": {
    "name": "ipython",
    "version": 3
   },
   "file_extension": ".py",
   "mimetype": "text/x-python",
   "name": "python",
   "nbconvert_exporter": "python",
   "pygments_lexer": "ipython3",
   "version": "3.9.12"
  }
 },
 "nbformat": 4,
 "nbformat_minor": 5
}
